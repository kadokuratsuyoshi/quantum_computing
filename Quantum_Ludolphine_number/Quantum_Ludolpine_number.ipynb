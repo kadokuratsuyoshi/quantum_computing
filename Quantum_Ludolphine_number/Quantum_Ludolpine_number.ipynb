{
 "cells": [
  {
   "cell_type": "markdown",
   "id": "fa0fd7c8",
   "metadata": {},
   "source": [
    "# Quantum Ludolphine number"
   ]
  },
  {
   "cell_type": "markdown",
   "id": "3e775e7c",
   "metadata": {},
   "source": [
    "#### reference:https://en.wikipedia.org/wiki/Ludolph_van_Ceulen"
   ]
  },
  {
   "cell_type": "code",
   "execution_count": 13,
   "id": "afeecadc",
   "metadata": {},
   "outputs": [],
   "source": [
    "from IPython.display import clear_output\n",
    "from qiskit import *\n",
    "from qiskit.visualization import plot_histogram\n",
    "import numpy as np\n",
    "import matplotlib.pyplot as plotter\n",
    "from qiskit.tools.monitor import job_monitor\n",
    "# for visualization\n",
    "import seaborn as sns, operator\n",
    "sns.set_style(\"dark\")\n",
    "\n",
    "pi = np.pi"
   ]
  },
  {
   "cell_type": "code",
   "execution_count": 14,
   "id": "07cf0ec9",
   "metadata": {},
   "outputs": [],
   "source": [
    "## Complex Conjugate of Wave Function using by the inverse fourier transform\n",
    "def qft_dagger(circ_, n_qubits):\n",
    "    \"\"\"n-qubit QFTdagger the first n qubits in circ\"\"\"\n",
    "    for qubit in range(int(n_qubits/2)):\n",
    "        circ_.swap(qubit, n_qubits-qubit-1)\n",
    "    for j in range(0,n_qubits):\n",
    "        for m in range(j):\n",
    "            circ_.cp(-np.pi/float(2**(j-m)), m, j)\n",
    "        circ_.h(j)"
   ]
  },
  {
   "cell_type": "code",
   "execution_count": 15,
   "id": "74043c2b",
   "metadata": {},
   "outputs": [],
   "source": [
    "## initial state of the quantum phase \n",
    "## attention : Set |H> state except for the last quantumbit at the first state\n",
    "## then, set |1> to the last quantum bit\n",
    "def qpe_pre(circ_, n_qubits):\n",
    "    circ_.h(range(n_qubits))\n",
    "    circ_.x(n_qubits)\n",
    "\n",
    "    for x in reversed(range(n_qubits)):\n",
    "        for _ in range(2**(n_qubits-1-x)):\n",
    "            circ_.cp(1, n_qubits-1-x, n_qubits)"
   ]
  },
  {
   "cell_type": "code",
   "execution_count": 16,
   "id": "bbdc5b0f",
   "metadata": {},
   "outputs": [],
   "source": [
    "## run QISKIT\n",
    "def run_job(circ, backend, shots=1000, optimization_level=0):\n",
    "    t_circ = transpile(circ, backend, optimization_level=optimization_level)\n",
    "    qobj = assemble(t_circ, shots=shots)\n",
    "    job = backend.run(qobj)\n",
    "    job_monitor(job)\n",
    "    return job.result().get_counts()"
   ]
  },
  {
   "cell_type": "code",
   "execution_count": 19,
   "id": "498ee059",
   "metadata": {},
   "outputs": [
    {
     "name": "stderr",
     "output_type": "stream",
     "text": [
      "ibmqfactory.load_account:WARNING:2023-04-09 08:02:33,580: Credentials are already in use. The existing account in the session will be replaced.\n"
     ]
    }
   ],
   "source": [
    "## get IBMQ cloud quantum emulator account\n",
    "from qiskit import IBMQ\n",
    "IBMQ.load_account()\n",
    "simulator_cloud = IBMQ.get_provider(hub='ibm-q', group='open', project='main')\n",
    "device = simulator_cloud.get_backend('ibmq_manila')"
   ]
  },
  {
   "cell_type": "code",
   "execution_count": 20,
   "id": "a6b78bd3",
   "metadata": {},
   "outputs": [],
   "source": [
    "simulator = Aer.get_backend('aer_simulator')"
   ]
  },
  {
   "cell_type": "code",
   "execution_count": 21,
   "id": "d01fd7c8",
   "metadata": {},
   "outputs": [],
   "source": [
    "## obtain Ludolphine number function\n",
    "## like as u1(theta)|1> = exp(2 x pi x i x theta)|1>\n",
    "## run operator U = u1(theta) and |psi> = |1>, quantum phase \n",
    "## from 1 radian to theta  2^n x 1 ラジアン = the most peak cout = 2 x pi\n",
    "def get_pi_estimate(n_qubits):\n",
    "\n",
    "    # generate quantum circuit\n",
    "    circ = QuantumCircuit(n_qubits + 1, n_qubits)\n",
    "    # generate input state\n",
    "    qpe_pre(circ, n_qubits)\n",
    "    # make quantum barrier\n",
    "    circ.barrier()\n",
    "    # run inverse fourier transform\n",
    "    qft_dagger(circ, n_qubits)\n",
    "    # make quantum barrier\n",
    "    circ.barrier()\n",
    "    # obtain the last quantum bit\n",
    "    circ.measure(range(n_qubits), range(n_qubits))\n",
    "\n",
    "    # run job and earn results\n",
    "    counts = run_job(circ, backend=simulator, shots=10000, optimization_level=0)\n",
    "    # print(counts) \n",
    "\n",
    "    # peak value\n",
    "    max_counts_result = max(counts, key=counts.get)\n",
    "    max_counts_result = int(max_counts_result, 2)\n",
    "    \n",
    "    # estimate Ludolphie number in results\n",
    "    theta = max_counts_result/2**n_qubits\n",
    "    return (1./(2*theta))"
   ]
  },
  {
   "cell_type": "code",
   "execution_count": 22,
   "id": "8d3ead7f",
   "metadata": {},
   "outputs": [
    {
     "name": "stdout",
     "output_type": "stream",
     "text": [
      "Job Status: job has successfully run\n",
      "2 qubits, pi ≈ 2.0\n",
      "Job Status: job has successfully run\n",
      "3 qubits, pi ≈ 4.0\n",
      "Job Status: job has successfully run\n",
      "4 qubits, pi ≈ 2.6666666666666665\n",
      "Job Status: job has successfully run\n",
      "5 qubits, pi ≈ 3.2\n",
      "Job Status: job has successfully run\n",
      "6 qubits, pi ≈ 3.2\n",
      "Job Status: job has successfully run\n",
      "7 qubits, pi ≈ 3.2\n",
      "Job Status: job has successfully run\n",
      "8 qubits, pi ≈ 3.1219512195121952\n",
      "Job Status: job has successfully run\n",
      "9 qubits, pi ≈ 3.1604938271604937\n",
      "Job Status: job has successfully run\n",
      "10 qubits, pi ≈ 3.1411042944785277\n",
      "Job Status: job has successfully run\n",
      "11 qubits, pi ≈ 3.1411042944785277\n",
      "Job Status: job has successfully run\n",
      "12 qubits, pi ≈ 3.1411042944785277\n"
     ]
    }
   ],
   "source": [
    "# estimate Ludolphine number another quantum bit number\n",
    "nqs = list(range(2,12+1))\n",
    "pi_estimates = []\n",
    "for nq in nqs:\n",
    "    thisnq_pi_estimate = get_pi_estimate(nq)\n",
    "    pi_estimates.append(thisnq_pi_estimate)\n",
    "    print(f\"{nq} qubits, pi ≈ {thisnq_pi_estimate}\")"
   ]
  },
  {
   "cell_type": "code",
   "execution_count": 23,
   "id": "115250a9",
   "metadata": {},
   "outputs": [
    {
     "data": {
      "image/png": "[encoded data removed]",
      "text/plain": [
       "<Figure size 432x288 with 1 Axes>"
      ]
     },
     "metadata": {
      "needs_background": "light"
     },
     "output_type": "display_data"
    }
   ],
   "source": [
    "plotter.plot(nqs, [pi]*len(nqs), '--r')\n",
    "plotter.plot(nqs, pi_estimates, '.-', markersize=12)\n",
    "plotter.xlim([1.5, 12.5])\n",
    "plotter.ylim([1.5, 4.5])\n",
    "plotter.legend(['$\\pi$', 'estimate of $\\pi$'])\n",
    "plotter.xlabel('Number of qubits', fontdict={'size':20})\n",
    "plotter.ylabel('$\\pi$ and estimate of $\\pi$', fontdict={'size':20})\n",
    "plotter.tick_params(axis='x', labelsize=12)\n",
    "plotter.tick_params(axis='y', labelsize=12)\n",
    "plotter.show()"
   ]
  },
  {
   "cell_type": "code",
   "execution_count": 24,
   "id": "0d435a36",
   "metadata": {},
   "outputs": [
    {
     "data": {
      "text/html": [
       "<h3>Version Information</h3><table><tr><th>Qiskit Software</th><th>Version</th></tr><tr><td><code>qiskit-terra</code></td><td>0.22.3</td></tr><tr><td><code>qiskit-aer</code></td><td>0.11.2</td></tr><tr><td><code>qiskit-ignis</code></td><td>0.7.1</td></tr><tr><td><code>qiskit-ibmq-provider</code></td><td>0.19.2</td></tr><tr><td><code>qiskit</code></td><td>0.39.4</td></tr><tr><th>System information</th></tr><tr><td>Python version</td><td>3.10.5</td></tr><tr><td>Python compiler</td><td>MSC v.1929 64 bit (AMD64)</td></tr><tr><td>Python build</td><td>tags/v3.10.5:f377153, Jun  6 2022 16:14:13</td></tr><tr><td>OS</td><td>Windows</td></tr><tr><td>CPUs</td><td>4</td></tr><tr><td>Memory (Gb)</td><td>15.810821533203125</td></tr><tr><td colspan='2'>Sun Apr 09 08:04:38 2023 東京 (標準時)</td></tr></table>"
      ],
      "text/plain": [
       "<IPython.core.display.HTML object>"
      ]
     },
     "metadata": {},
     "output_type": "display_data"
    }
   ],
   "source": [
    "import qiskit.tools.jupyter\n",
    "%qiskit_version_table"
   ]
  },
  {
   "cell_type": "code",
   "execution_count": null,
   "id": "5be34ab2",
   "metadata": {},
   "outputs": [],
   "source": []
  }
 ],
 "metadata": {
  "kernelspec": {
   "display_name": "Python 3 (ipykernel)",
   "language": "python",
   "name": "python3"
  },
  "language_info": {
   "codemirror_mode": {
    "name": "ipython",
    "version": 3
   },
   "file_extension": ".py",
   "mimetype": "text/x-python",
   "name": "python",
   "nbconvert_exporter": "python",
   "pygments_lexer": "ipython3",
   "version": "3.10.5"
  }
 },
 "nbformat": 4,
 "nbformat_minor": 5
}
